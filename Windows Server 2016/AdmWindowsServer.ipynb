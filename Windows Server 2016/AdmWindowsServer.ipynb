{
 "cells": [
  {
   "attachments": {},
   "cell_type": "markdown",
   "metadata": {},
   "source": [
    "### Administrando Windows Server 2016"
   ]
  },
  {
   "attachments": {},
   "cell_type": "markdown",
   "metadata": {},
   "source": [
    "### Como funciona a compra de licenças para uma empresa"
   ]
  },
  {
   "attachments": {},
   "cell_type": "markdown",
   "metadata": {},
   "source": [
    "<strong>Cenário 1:</strong> Empresa com <strong>50 máquinas e 1 servidor</strong> de domínio que também é um servidor de arquivos.<br>\n",
    "<strong>Hardware: 1 processador</strong> com <strong>8 núcleos.</strong>\n",
    "<br>\n",
    "<br>\n",
    "<strong>Windows Server 2012</strong><br>\n",
    "- 01 Windows Server 2012 Standard R2.<br>\n",
    "- 50 CALS de acesso por dispositivo. (CALS = São as licenças).<br>\n",
    "- 50 Licenças de Windows Cliente (Windows 10 PRO).<br>\n",
    "<br>\n",
    "<strong>Windows Server 2016</strong>\n",
    "- 08 Windows Server 2016 Standard.<br>\n",
    "- 50 CALS de acesso por dispositivo. (CALS = São as licenças).<br>\n",
    "- 50 Licenças de Windows Cliente (Windows 10 PRO).<br>\n",
    "<br>\n",
    "<strong> Observações: </strong><br>\n",
    "- 01 Licença do Windows Server 2012 R2 dá direito a licenciar 1 servidor com <strong> 2 processadores físicos</strong>, então se eu tenho 1 servidor com 4 processadores físicos, eu preciso de 2 licenças.<br>\n",
    "- 01 Licença do Windows Server 2016 dá direito a licenciar 2 núcleos processador, mas a <strong>venda mínima</strong> de licença do Windows Server 2016 são <strong>8</strong>, ou seja, o mínimo que você vai comprar dará direito a licenciar um servidor com <strong>16 núcleos.</strong>"
   ]
  },
  {
   "attachments": {},
   "cell_type": "markdown",
   "metadata": {},
   "source": [
    "<strong>Cenário 2:</strong> Empresa com <strong>100 máquinas e 1 servidor</strong> de domínio que também é um servidor de arquivos.<br>\n",
    "<strong>Hardware: 2 processadores</strong> com <strong>12 núcleos.</strong><br>\n",
    "<br>\n",
    "<strong>Windows Server 2012</strong>\n",
    "- 01 Windows Server 2012 Standard R2.<br>\n",
    "- 100 CALS de acesso por dispositivo. (CALS = São as licenças).<br>\n",
    "- 100 Licenças de Windows Cliente (Windows 10 PRO).<br>\n",
    "<br>\n",
    "<strong>Windows Server 2016</strong>\n",
    "- 12 Windows Server 2016 Standard.<br>\n",
    "- 100 CALS de acesso por dispositivo. (CALS = São as licenças).<br>\n",
    "- 100 Licenças de Windows Cliente (Windows 10 PRO).<br>\n",
    "<br>\n",
    "<strong> Observações: </strong><br>\n",
    "- 01 Licença do Windows Server 2012 R2 dá direito a licenciar 1 servidor com <strong> 2 processadores físicos</strong>, então se eu tenho 1 servidor com 4 processadores físicos, eu preciso de 2 licenças.<br>\n",
    "- 01 Licença do Windows Server 2016 dá direito a licenciar 2 núcleos processador, mas a <strong>venda mínima</strong> de licença do Windows Server 2016 são <strong>8</strong>, ou seja, o mínimo que você vai comprar dará direito a licenciar um servidor com <strong>16 núcleos.</strong><br>\n",
    "<br>\n",
    "<strong> Conclusão: </strong><br>\n",
    "- Empresas com servidores com processadores mais potentes pagarão mais caro pelo licenciamento do Windows Server 2016.<br>\n",
    "<br>\n",
    "<strong> Conta: </strong><br>\n",
    "- 2 Processadores com 12 núcleos = 24 núcleos.<br>\n",
    "- 01 Licença do Windows Server 2016 dá direito a licenciar 2 núcleos processador, então seria 24/2 = 12 licenças que iria precisar.<br>\n",
    "- Mas a venda minima é 8, então teria que comprar mais 4 adicionais pra dar as 12.\n",
    "\n",
    "\n"
   ]
  }
 ],
 "metadata": {
  "kernelspec": {
   "display_name": "Python 3",
   "language": "python",
   "name": "python3"
  },
  "language_info": {
   "name": "python",
   "version": "3.10.1 (tags/v3.10.1:2cd268a, Dec  6 2021, 19:10:37) [MSC v.1929 64 bit (AMD64)]"
  },
  "orig_nbformat": 4,
  "vscode": {
   "interpreter": {
    "hash": "00c3101e1489cc7b985dd579973095e8401208668771acef53d6cdccbf5d0b44"
   }
  }
 },
 "nbformat": 4,
 "nbformat_minor": 2
}
